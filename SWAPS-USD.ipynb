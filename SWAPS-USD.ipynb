{
 "cells": [
  {
   "cell_type": "code",
   "execution_count": 1,
   "metadata": {},
   "outputs": [],
   "source": [
    "import requests\n",
    "import pandas as pd\n",
    "import numpy as np\n",
    "import json"
   ]
  },
  {
   "cell_type": "markdown",
   "metadata": {},
   "source": [
    "### Fetching Data"
   ]
  },
  {
   "cell_type": "code",
   "execution_count": 3,
   "metadata": {},
   "outputs": [],
   "source": [
    "df=requests.get(\"https://api.covalenthq.com/v1/1/events/topics/0xd6d4f5681c246c9f42c203e287975af1601f8df8035a9251f79aab5c8f09e2f8/?starting-block=12038853&ending-block=latest&sender-address=0x11111112542D85B3EF69AE05771c2dCCff4fAa26&page-size=1000000&key=ckey_7e6f8bf08b444545a0d3ad4e5f9\")"
   ]
  },
  {
   "cell_type": "code",
   "execution_count": 4,
   "metadata": {},
   "outputs": [
    {
     "data": {
      "text/plain": [
       "<Response [200]>"
      ]
     },
     "execution_count": 4,
     "metadata": {},
     "output_type": "execute_result"
    }
   ],
   "source": [
    "df"
   ]
  },
  {
   "cell_type": "code",
   "execution_count": 5,
   "metadata": {},
   "outputs": [],
   "source": [
    "df1=df.json()\n",
    "dataf=pd.DataFrame.from_dict(df1[\"data\"][\"items\"])"
   ]
  },
  {
   "cell_type": "code",
   "execution_count": 6,
   "metadata": {},
   "outputs": [
    {
     "data": {
      "text/html": [
       "<div>\n",
       "<style scoped>\n",
       "    .dataframe tbody tr th:only-of-type {\n",
       "        vertical-align: middle;\n",
       "    }\n",
       "\n",
       "    .dataframe tbody tr th {\n",
       "        vertical-align: top;\n",
       "    }\n",
       "\n",
       "    .dataframe thead th {\n",
       "        text-align: right;\n",
       "    }\n",
       "</style>\n",
       "<table border=\"1\" class=\"dataframe\">\n",
       "  <thead>\n",
       "    <tr style=\"text-align: right;\">\n",
       "      <th></th>\n",
       "      <th>block_signed_at</th>\n",
       "      <th>block_height</th>\n",
       "      <th>tx_offset</th>\n",
       "      <th>log_offset</th>\n",
       "      <th>tx_hash</th>\n",
       "      <th>_raw_log_topics_bytes</th>\n",
       "      <th>raw_log_topics</th>\n",
       "      <th>sender_contract_decimals</th>\n",
       "      <th>sender_name</th>\n",
       "      <th>sender_contract_ticker_symbol</th>\n",
       "      <th>sender_address</th>\n",
       "      <th>sender_address_label</th>\n",
       "      <th>sender_logo_url</th>\n",
       "      <th>raw_log_data</th>\n",
       "      <th>decoded</th>\n",
       "    </tr>\n",
       "  </thead>\n",
       "  <tbody>\n",
       "    <tr>\n",
       "      <th>0</th>\n",
       "      <td>2021-03-15T09:34:04Z</td>\n",
       "      <td>12042387</td>\n",
       "      <td>102</td>\n",
       "      <td>90</td>\n",
       "      <td>0x745eac933cdf39c5438488869ce8c03fe2038eb948ad...</td>\n",
       "      <td>None</td>\n",
       "      <td>[0xd6d4f5681c246c9f42c203e287975af1601f8df8035...</td>\n",
       "      <td>None</td>\n",
       "      <td>None</td>\n",
       "      <td>None</td>\n",
       "      <td>0x11111112542d85b3ef69ae05771c2dccff4faa26</td>\n",
       "      <td>1inch V3</td>\n",
       "      <td>None</td>\n",
       "      <td>0x000000000000000000000000690ed9d54c99993e0df4...</td>\n",
       "      <td>{'name': 'Swapped', 'signature': 'Swapped(addr...</td>\n",
       "    </tr>\n",
       "    <tr>\n",
       "      <th>1</th>\n",
       "      <td>2021-03-15T12:07:08Z</td>\n",
       "      <td>12043090</td>\n",
       "      <td>216</td>\n",
       "      <td>373</td>\n",
       "      <td>0x351a163cf1dc41513e954ba994bbc2cf6b4a656332ed...</td>\n",
       "      <td>None</td>\n",
       "      <td>[0xd6d4f5681c246c9f42c203e287975af1601f8df8035...</td>\n",
       "      <td>None</td>\n",
       "      <td>None</td>\n",
       "      <td>None</td>\n",
       "      <td>0x11111112542d85b3ef69ae05771c2dccff4faa26</td>\n",
       "      <td>1inch V3</td>\n",
       "      <td>None</td>\n",
       "      <td>0x000000000000000000000000690ed9d54c99993e0df4...</td>\n",
       "      <td>{'name': 'Swapped', 'signature': 'Swapped(addr...</td>\n",
       "    </tr>\n",
       "    <tr>\n",
       "      <th>2</th>\n",
       "      <td>2021-03-15T18:28:40Z</td>\n",
       "      <td>12044806</td>\n",
       "      <td>31</td>\n",
       "      <td>61</td>\n",
       "      <td>0xe11944fdb777c370dcbe518bc0c4c39c375a6a5fb40c...</td>\n",
       "      <td>None</td>\n",
       "      <td>[0xd6d4f5681c246c9f42c203e287975af1601f8df8035...</td>\n",
       "      <td>None</td>\n",
       "      <td>None</td>\n",
       "      <td>None</td>\n",
       "      <td>0x11111112542d85b3ef69ae05771c2dccff4faa26</td>\n",
       "      <td>1inch V3</td>\n",
       "      <td>None</td>\n",
       "      <td>0x0000000000000000000000006ab9c477246bcaa4a1c3...</td>\n",
       "      <td>{'name': 'Swapped', 'signature': 'Swapped(addr...</td>\n",
       "    </tr>\n",
       "    <tr>\n",
       "      <th>3</th>\n",
       "      <td>2021-03-15T20:17:09Z</td>\n",
       "      <td>12045290</td>\n",
       "      <td>205</td>\n",
       "      <td>331</td>\n",
       "      <td>0x523c1339d5873122925d0694ce0343544b0b57e50271...</td>\n",
       "      <td>None</td>\n",
       "      <td>[0xd6d4f5681c246c9f42c203e287975af1601f8df8035...</td>\n",
       "      <td>None</td>\n",
       "      <td>None</td>\n",
       "      <td>None</td>\n",
       "      <td>0x11111112542d85b3ef69ae05771c2dccff4faa26</td>\n",
       "      <td>1inch V3</td>\n",
       "      <td>None</td>\n",
       "      <td>0x0000000000000000000000000fecf6b4f65ec714d6df...</td>\n",
       "      <td>{'name': 'Swapped', 'signature': 'Swapped(addr...</td>\n",
       "    </tr>\n",
       "    <tr>\n",
       "      <th>4</th>\n",
       "      <td>2021-03-16T07:07:27Z</td>\n",
       "      <td>12048209</td>\n",
       "      <td>149</td>\n",
       "      <td>238</td>\n",
       "      <td>0x336b8a817b8fe734268a5b7c8f624cb7f71e7cddc798...</td>\n",
       "      <td>None</td>\n",
       "      <td>[0xd6d4f5681c246c9f42c203e287975af1601f8df8035...</td>\n",
       "      <td>None</td>\n",
       "      <td>None</td>\n",
       "      <td>None</td>\n",
       "      <td>0x11111112542d85b3ef69ae05771c2dccff4faa26</td>\n",
       "      <td>1inch V3</td>\n",
       "      <td>None</td>\n",
       "      <td>0x000000000000000000000000fb3c7eb936caa12b5a88...</td>\n",
       "      <td>{'name': 'Swapped', 'signature': 'Swapped(addr...</td>\n",
       "    </tr>\n",
       "    <tr>\n",
       "      <th>...</th>\n",
       "      <td>...</td>\n",
       "      <td>...</td>\n",
       "      <td>...</td>\n",
       "      <td>...</td>\n",
       "      <td>...</td>\n",
       "      <td>...</td>\n",
       "      <td>...</td>\n",
       "      <td>...</td>\n",
       "      <td>...</td>\n",
       "      <td>...</td>\n",
       "      <td>...</td>\n",
       "      <td>...</td>\n",
       "      <td>...</td>\n",
       "      <td>...</td>\n",
       "      <td>...</td>\n",
       "    </tr>\n",
       "    <tr>\n",
       "      <th>162279</th>\n",
       "      <td>2021-05-23T20:27:26Z</td>\n",
       "      <td>12492712</td>\n",
       "      <td>151</td>\n",
       "      <td>334</td>\n",
       "      <td>0x45cb574b3e4ef6f1f07d511e41b2cd3bd9145458e6be...</td>\n",
       "      <td>None</td>\n",
       "      <td>[0xd6d4f5681c246c9f42c203e287975af1601f8df8035...</td>\n",
       "      <td>None</td>\n",
       "      <td>None</td>\n",
       "      <td>None</td>\n",
       "      <td>0x11111112542d85b3ef69ae05771c2dccff4faa26</td>\n",
       "      <td>1inch V3</td>\n",
       "      <td>None</td>\n",
       "      <td>0x00000000000000000000000074de5d4fcbf63e00296f...</td>\n",
       "      <td>{'name': 'Swapped', 'signature': 'Swapped(addr...</td>\n",
       "    </tr>\n",
       "    <tr>\n",
       "      <th>162280</th>\n",
       "      <td>2021-05-23T20:27:53Z</td>\n",
       "      <td>12492713</td>\n",
       "      <td>109</td>\n",
       "      <td>122</td>\n",
       "      <td>0xebaf4ab9cdbf59434f06d3200a569c9a8a3f455a7f70...</td>\n",
       "      <td>None</td>\n",
       "      <td>[0xd6d4f5681c246c9f42c203e287975af1601f8df8035...</td>\n",
       "      <td>None</td>\n",
       "      <td>None</td>\n",
       "      <td>None</td>\n",
       "      <td>0x11111112542d85b3ef69ae05771c2dccff4faa26</td>\n",
       "      <td>1inch V3</td>\n",
       "      <td>None</td>\n",
       "      <td>0x00000000000000000000000029b05b9624d0643aa3e5...</td>\n",
       "      <td>{'name': 'Swapped', 'signature': 'Swapped(addr...</td>\n",
       "    </tr>\n",
       "    <tr>\n",
       "      <th>162281</th>\n",
       "      <td>2021-05-23T20:28:15Z</td>\n",
       "      <td>12492719</td>\n",
       "      <td>114</td>\n",
       "      <td>177</td>\n",
       "      <td>0x2c20a4107f7cf1f798fdd91930ff5ff3195fff83f9cf...</td>\n",
       "      <td>None</td>\n",
       "      <td>[0xd6d4f5681c246c9f42c203e287975af1601f8df8035...</td>\n",
       "      <td>None</td>\n",
       "      <td>None</td>\n",
       "      <td>None</td>\n",
       "      <td>0x11111112542d85b3ef69ae05771c2dccff4faa26</td>\n",
       "      <td>1inch V3</td>\n",
       "      <td>None</td>\n",
       "      <td>0x000000000000000000000000a5df8e80bfd14ef7e4f7...</td>\n",
       "      <td>{'name': 'Swapped', 'signature': 'Swapped(addr...</td>\n",
       "    </tr>\n",
       "    <tr>\n",
       "      <th>162282</th>\n",
       "      <td>2021-05-23T20:29:29Z</td>\n",
       "      <td>12492722</td>\n",
       "      <td>85</td>\n",
       "      <td>126</td>\n",
       "      <td>0x5297251846e1203f6eb6bc1c82b117b91059516e64a8...</td>\n",
       "      <td>None</td>\n",
       "      <td>[0xd6d4f5681c246c9f42c203e287975af1601f8df8035...</td>\n",
       "      <td>None</td>\n",
       "      <td>None</td>\n",
       "      <td>None</td>\n",
       "      <td>0x11111112542d85b3ef69ae05771c2dccff4faa26</td>\n",
       "      <td>1inch V3</td>\n",
       "      <td>None</td>\n",
       "      <td>0x00000000000000000000000073988f4bfc8ab788004d...</td>\n",
       "      <td>{'name': 'Swapped', 'signature': 'Swapped(addr...</td>\n",
       "    </tr>\n",
       "    <tr>\n",
       "      <th>162283</th>\n",
       "      <td>2021-05-23T20:30:24Z</td>\n",
       "      <td>12492724</td>\n",
       "      <td>85</td>\n",
       "      <td>150</td>\n",
       "      <td>0x7cccf6ab2fc094aced9076c373c9435bb93a75f2701a...</td>\n",
       "      <td>None</td>\n",
       "      <td>[0xd6d4f5681c246c9f42c203e287975af1601f8df8035...</td>\n",
       "      <td>None</td>\n",
       "      <td>None</td>\n",
       "      <td>None</td>\n",
       "      <td>0x11111112542d85b3ef69ae05771c2dccff4faa26</td>\n",
       "      <td>1inch V3</td>\n",
       "      <td>None</td>\n",
       "      <td>0x00000000000000000000000013e1699a681d48d9b98e...</td>\n",
       "      <td>{'name': 'Swapped', 'signature': 'Swapped(addr...</td>\n",
       "    </tr>\n",
       "  </tbody>\n",
       "</table>\n",
       "<p>162284 rows × 15 columns</p>\n",
       "</div>"
      ],
      "text/plain": [
       "             block_signed_at  block_height  tx_offset  log_offset  \\\n",
       "0       2021-03-15T09:34:04Z      12042387        102          90   \n",
       "1       2021-03-15T12:07:08Z      12043090        216         373   \n",
       "2       2021-03-15T18:28:40Z      12044806         31          61   \n",
       "3       2021-03-15T20:17:09Z      12045290        205         331   \n",
       "4       2021-03-16T07:07:27Z      12048209        149         238   \n",
       "...                      ...           ...        ...         ...   \n",
       "162279  2021-05-23T20:27:26Z      12492712        151         334   \n",
       "162280  2021-05-23T20:27:53Z      12492713        109         122   \n",
       "162281  2021-05-23T20:28:15Z      12492719        114         177   \n",
       "162282  2021-05-23T20:29:29Z      12492722         85         126   \n",
       "162283  2021-05-23T20:30:24Z      12492724         85         150   \n",
       "\n",
       "                                                  tx_hash  \\\n",
       "0       0x745eac933cdf39c5438488869ce8c03fe2038eb948ad...   \n",
       "1       0x351a163cf1dc41513e954ba994bbc2cf6b4a656332ed...   \n",
       "2       0xe11944fdb777c370dcbe518bc0c4c39c375a6a5fb40c...   \n",
       "3       0x523c1339d5873122925d0694ce0343544b0b57e50271...   \n",
       "4       0x336b8a817b8fe734268a5b7c8f624cb7f71e7cddc798...   \n",
       "...                                                   ...   \n",
       "162279  0x45cb574b3e4ef6f1f07d511e41b2cd3bd9145458e6be...   \n",
       "162280  0xebaf4ab9cdbf59434f06d3200a569c9a8a3f455a7f70...   \n",
       "162281  0x2c20a4107f7cf1f798fdd91930ff5ff3195fff83f9cf...   \n",
       "162282  0x5297251846e1203f6eb6bc1c82b117b91059516e64a8...   \n",
       "162283  0x7cccf6ab2fc094aced9076c373c9435bb93a75f2701a...   \n",
       "\n",
       "       _raw_log_topics_bytes  \\\n",
       "0                       None   \n",
       "1                       None   \n",
       "2                       None   \n",
       "3                       None   \n",
       "4                       None   \n",
       "...                      ...   \n",
       "162279                  None   \n",
       "162280                  None   \n",
       "162281                  None   \n",
       "162282                  None   \n",
       "162283                  None   \n",
       "\n",
       "                                           raw_log_topics  \\\n",
       "0       [0xd6d4f5681c246c9f42c203e287975af1601f8df8035...   \n",
       "1       [0xd6d4f5681c246c9f42c203e287975af1601f8df8035...   \n",
       "2       [0xd6d4f5681c246c9f42c203e287975af1601f8df8035...   \n",
       "3       [0xd6d4f5681c246c9f42c203e287975af1601f8df8035...   \n",
       "4       [0xd6d4f5681c246c9f42c203e287975af1601f8df8035...   \n",
       "...                                                   ...   \n",
       "162279  [0xd6d4f5681c246c9f42c203e287975af1601f8df8035...   \n",
       "162280  [0xd6d4f5681c246c9f42c203e287975af1601f8df8035...   \n",
       "162281  [0xd6d4f5681c246c9f42c203e287975af1601f8df8035...   \n",
       "162282  [0xd6d4f5681c246c9f42c203e287975af1601f8df8035...   \n",
       "162283  [0xd6d4f5681c246c9f42c203e287975af1601f8df8035...   \n",
       "\n",
       "       sender_contract_decimals sender_name sender_contract_ticker_symbol  \\\n",
       "0                          None        None                          None   \n",
       "1                          None        None                          None   \n",
       "2                          None        None                          None   \n",
       "3                          None        None                          None   \n",
       "4                          None        None                          None   \n",
       "...                         ...         ...                           ...   \n",
       "162279                     None        None                          None   \n",
       "162280                     None        None                          None   \n",
       "162281                     None        None                          None   \n",
       "162282                     None        None                          None   \n",
       "162283                     None        None                          None   \n",
       "\n",
       "                                    sender_address sender_address_label  \\\n",
       "0       0x11111112542d85b3ef69ae05771c2dccff4faa26             1inch V3   \n",
       "1       0x11111112542d85b3ef69ae05771c2dccff4faa26             1inch V3   \n",
       "2       0x11111112542d85b3ef69ae05771c2dccff4faa26             1inch V3   \n",
       "3       0x11111112542d85b3ef69ae05771c2dccff4faa26             1inch V3   \n",
       "4       0x11111112542d85b3ef69ae05771c2dccff4faa26             1inch V3   \n",
       "...                                            ...                  ...   \n",
       "162279  0x11111112542d85b3ef69ae05771c2dccff4faa26             1inch V3   \n",
       "162280  0x11111112542d85b3ef69ae05771c2dccff4faa26             1inch V3   \n",
       "162281  0x11111112542d85b3ef69ae05771c2dccff4faa26             1inch V3   \n",
       "162282  0x11111112542d85b3ef69ae05771c2dccff4faa26             1inch V3   \n",
       "162283  0x11111112542d85b3ef69ae05771c2dccff4faa26             1inch V3   \n",
       "\n",
       "       sender_logo_url                                       raw_log_data  \\\n",
       "0                 None  0x000000000000000000000000690ed9d54c99993e0df4...   \n",
       "1                 None  0x000000000000000000000000690ed9d54c99993e0df4...   \n",
       "2                 None  0x0000000000000000000000006ab9c477246bcaa4a1c3...   \n",
       "3                 None  0x0000000000000000000000000fecf6b4f65ec714d6df...   \n",
       "4                 None  0x000000000000000000000000fb3c7eb936caa12b5a88...   \n",
       "...                ...                                                ...   \n",
       "162279            None  0x00000000000000000000000074de5d4fcbf63e00296f...   \n",
       "162280            None  0x00000000000000000000000029b05b9624d0643aa3e5...   \n",
       "162281            None  0x000000000000000000000000a5df8e80bfd14ef7e4f7...   \n",
       "162282            None  0x00000000000000000000000073988f4bfc8ab788004d...   \n",
       "162283            None  0x00000000000000000000000013e1699a681d48d9b98e...   \n",
       "\n",
       "                                                  decoded  \n",
       "0       {'name': 'Swapped', 'signature': 'Swapped(addr...  \n",
       "1       {'name': 'Swapped', 'signature': 'Swapped(addr...  \n",
       "2       {'name': 'Swapped', 'signature': 'Swapped(addr...  \n",
       "3       {'name': 'Swapped', 'signature': 'Swapped(addr...  \n",
       "4       {'name': 'Swapped', 'signature': 'Swapped(addr...  \n",
       "...                                                   ...  \n",
       "162279  {'name': 'Swapped', 'signature': 'Swapped(addr...  \n",
       "162280  {'name': 'Swapped', 'signature': 'Swapped(addr...  \n",
       "162281  {'name': 'Swapped', 'signature': 'Swapped(addr...  \n",
       "162282  {'name': 'Swapped', 'signature': 'Swapped(addr...  \n",
       "162283  {'name': 'Swapped', 'signature': 'Swapped(addr...  \n",
       "\n",
       "[162284 rows x 15 columns]"
      ]
     },
     "execution_count": 6,
     "metadata": {},
     "output_type": "execute_result"
    }
   ],
   "source": [
    "dataf"
   ]
  },
  {
   "cell_type": "code",
   "execution_count": null,
   "metadata": {},
   "outputs": [],
   "source": []
  },
  {
   "cell_type": "code",
   "execution_count": null,
   "metadata": {},
   "outputs": [],
   "source": []
  },
  {
   "cell_type": "code",
   "execution_count": 8,
   "metadata": {},
   "outputs": [],
   "source": [
    "#dataf=dataf.loc[(dataf['block_signed_at'] >= '2021-04-01') & (dataf['block_signed_at'] <= '2021-05-01')]"
   ]
  },
  {
   "cell_type": "code",
   "execution_count": 9,
   "metadata": {},
   "outputs": [],
   "source": [
    "#dataf=dataf.reset_index(drop=True)"
   ]
  },
  {
   "cell_type": "code",
   "execution_count": null,
   "metadata": {},
   "outputs": [],
   "source": [
    "\n",
    "    "
   ]
  },
  {
   "cell_type": "code",
   "execution_count": 10,
   "metadata": {},
   "outputs": [],
   "source": [
    "decoded=dataf[\"decoded\"]\n",
    "decoded.to_csv(\"decoded.csv\")"
   ]
  },
  {
   "cell_type": "code",
   "execution_count": 11,
   "metadata": {},
   "outputs": [],
   "source": [
    "decode_df=pd.read_csv(\"decoded.csv\")"
   ]
  },
  {
   "cell_type": "code",
   "execution_count": 12,
   "metadata": {},
   "outputs": [
    {
     "data": {
      "text/plain": [
       "\"{'name': 'Swapped', 'signature': 'Swapped(address sender, address srcToken, address dstToken, address dstReceiver, uint256 spentAmount, uint256 returnAmount)', 'params': [{'name': 'sender', 'type': 'address', 'indexed': False, 'decoded': True, 'value': '0x06b23dc3fb948fd800dcad8a800b60fd0e5401bc'}, {'name': 'srcToken', 'type': 'address', 'indexed': False, 'decoded': True, 'value': '0x2b915b505c017abb1547aa5ab355fbe69865cc6d'}, {'name': 'dstToken', 'type': 'address', 'indexed': False, 'decoded': True, 'value': '0xa0b86991c6218b36c1d19d4a2e9eb0ce3606eb48'}, {'name': 'dstReceiver', 'type': 'address', 'indexed': False, 'decoded': True, 'value': '0x06b23dc3fb948fd800dcad8a800b60fd0e5401bc'}, {'name': 'spentAmount', 'type': 'uint256', 'indexed': False, 'decoded': True, 'value': '10000000000'}, {'name': 'returnAmount', 'type': 'uint256', 'indexed': False, 'decoded': True, 'value': '13288105160'}]}\""
      ]
     },
     "execution_count": 12,
     "metadata": {},
     "output_type": "execute_result"
    }
   ],
   "source": [
    "decode_df[\"decoded\"][0]"
   ]
  },
  {
   "cell_type": "code",
   "execution_count": null,
   "metadata": {},
   "outputs": [],
   "source": []
  },
  {
   "cell_type": "code",
   "execution_count": 13,
   "metadata": {},
   "outputs": [],
   "source": [
    "m=dataf[\"block_signed_at\"]"
   ]
  },
  {
   "cell_type": "code",
   "execution_count": 14,
   "metadata": {},
   "outputs": [
    {
     "data": {
      "text/plain": [
       "0        0x8058a1abe4ff8c8be2f0db231d9fb057b2611745b164...\n",
       "1        0x38b5b549b1f5d3721a0a2ff69722046182d965d6eab9...\n",
       "2        0xa73875b4b1ff90a0877a385bd6bc021fe1993e5dbf63...\n",
       "3        0xcfe8543b29487e1728caf3edc67d40b7d1a050fdfd7c...\n",
       "4        0x3b08f03f56796855bcfb769bad7a8dee713d824b59c3...\n",
       "                               ...                        \n",
       "60236    0xf9e71e9636dd8f3f49119b60498fc7664ea318450bd5...\n",
       "60237    0xb11ddbc60bda3f430150fbdd56fdbbd06cbb07f6ad2e...\n",
       "60238    0x6b7a7d9f7e92016378fd49ef119f376f769a11859eb6...\n",
       "60239    0x71a83ae2b0fe359a9af6ab527695746b6c1957d3a6c3...\n",
       "60240    0x8c5d3295bb2a3013a097efce7f0224322eeda7581b54...\n",
       "Name: tx_hash, Length: 60241, dtype: object"
      ]
     },
     "execution_count": 14,
     "metadata": {},
     "output_type": "execute_result"
    }
   ],
   "source": [
    "m"
   ]
  },
  {
   "cell_type": "code",
   "execution_count": 15,
   "metadata": {},
   "outputs": [],
   "source": [
    "data_df=decode_df[\"decoded\"].str.split(expand=True)"
   ]
  },
  {
   "cell_type": "code",
   "execution_count": 16,
   "metadata": {},
   "outputs": [
    {
     "data": {
      "text/html": [
       "<div>\n",
       "<style scoped>\n",
       "    .dataframe tbody tr th:only-of-type {\n",
       "        vertical-align: middle;\n",
       "    }\n",
       "\n",
       "    .dataframe tbody tr th {\n",
       "        vertical-align: top;\n",
       "    }\n",
       "\n",
       "    .dataframe thead th {\n",
       "        text-align: right;\n",
       "    }\n",
       "</style>\n",
       "<table border=\"1\" class=\"dataframe\">\n",
       "  <thead>\n",
       "    <tr style=\"text-align: right;\">\n",
       "      <th></th>\n",
       "      <th>0</th>\n",
       "      <th>1</th>\n",
       "      <th>2</th>\n",
       "      <th>3</th>\n",
       "      <th>4</th>\n",
       "      <th>5</th>\n",
       "      <th>6</th>\n",
       "      <th>7</th>\n",
       "      <th>8</th>\n",
       "      <th>9</th>\n",
       "      <th>...</th>\n",
       "      <th>66</th>\n",
       "      <th>67</th>\n",
       "      <th>68</th>\n",
       "      <th>69</th>\n",
       "      <th>70</th>\n",
       "      <th>71</th>\n",
       "      <th>72</th>\n",
       "      <th>73</th>\n",
       "      <th>74</th>\n",
       "      <th>75</th>\n",
       "    </tr>\n",
       "  </thead>\n",
       "  <tbody>\n",
       "    <tr>\n",
       "      <th>0</th>\n",
       "      <td>{'name':</td>\n",
       "      <td>'Swapped',</td>\n",
       "      <td>'signature':</td>\n",
       "      <td>'Swapped(address</td>\n",
       "      <td>sender,</td>\n",
       "      <td>address</td>\n",
       "      <td>srcToken,</td>\n",
       "      <td>address</td>\n",
       "      <td>dstToken,</td>\n",
       "      <td>address</td>\n",
       "      <td>...</td>\n",
       "      <td>{'name':</td>\n",
       "      <td>'returnAmount',</td>\n",
       "      <td>'type':</td>\n",
       "      <td>'uint256',</td>\n",
       "      <td>'indexed':</td>\n",
       "      <td>False,</td>\n",
       "      <td>'decoded':</td>\n",
       "      <td>True,</td>\n",
       "      <td>'value':</td>\n",
       "      <td>'13288105160'}]}</td>\n",
       "    </tr>\n",
       "    <tr>\n",
       "      <th>1</th>\n",
       "      <td>{'name':</td>\n",
       "      <td>'Swapped',</td>\n",
       "      <td>'signature':</td>\n",
       "      <td>'Swapped(address</td>\n",
       "      <td>sender,</td>\n",
       "      <td>address</td>\n",
       "      <td>srcToken,</td>\n",
       "      <td>address</td>\n",
       "      <td>dstToken,</td>\n",
       "      <td>address</td>\n",
       "      <td>...</td>\n",
       "      <td>{'name':</td>\n",
       "      <td>'returnAmount',</td>\n",
       "      <td>'type':</td>\n",
       "      <td>'uint256',</td>\n",
       "      <td>'indexed':</td>\n",
       "      <td>False,</td>\n",
       "      <td>'decoded':</td>\n",
       "      <td>True,</td>\n",
       "      <td>'value':</td>\n",
       "      <td>'111781156120'}]}</td>\n",
       "    </tr>\n",
       "    <tr>\n",
       "      <th>2</th>\n",
       "      <td>{'name':</td>\n",
       "      <td>'Swapped',</td>\n",
       "      <td>'signature':</td>\n",
       "      <td>'Swapped(address</td>\n",
       "      <td>sender,</td>\n",
       "      <td>address</td>\n",
       "      <td>srcToken,</td>\n",
       "      <td>address</td>\n",
       "      <td>dstToken,</td>\n",
       "      <td>address</td>\n",
       "      <td>...</td>\n",
       "      <td>{'name':</td>\n",
       "      <td>'returnAmount',</td>\n",
       "      <td>'type':</td>\n",
       "      <td>'uint256',</td>\n",
       "      <td>'indexed':</td>\n",
       "      <td>False,</td>\n",
       "      <td>'decoded':</td>\n",
       "      <td>True,</td>\n",
       "      <td>'value':</td>\n",
       "      <td>'2312421205985258073697'}]}</td>\n",
       "    </tr>\n",
       "    <tr>\n",
       "      <th>3</th>\n",
       "      <td>{'name':</td>\n",
       "      <td>'Swapped',</td>\n",
       "      <td>'signature':</td>\n",
       "      <td>'Swapped(address</td>\n",
       "      <td>sender,</td>\n",
       "      <td>address</td>\n",
       "      <td>srcToken,</td>\n",
       "      <td>address</td>\n",
       "      <td>dstToken,</td>\n",
       "      <td>address</td>\n",
       "      <td>...</td>\n",
       "      <td>{'name':</td>\n",
       "      <td>'returnAmount',</td>\n",
       "      <td>'type':</td>\n",
       "      <td>'uint256',</td>\n",
       "      <td>'indexed':</td>\n",
       "      <td>False,</td>\n",
       "      <td>'decoded':</td>\n",
       "      <td>True,</td>\n",
       "      <td>'value':</td>\n",
       "      <td>'788959355126744592376'}]}</td>\n",
       "    </tr>\n",
       "    <tr>\n",
       "      <th>4</th>\n",
       "      <td>{'name':</td>\n",
       "      <td>'Swapped',</td>\n",
       "      <td>'signature':</td>\n",
       "      <td>'Swapped(address</td>\n",
       "      <td>sender,</td>\n",
       "      <td>address</td>\n",
       "      <td>srcToken,</td>\n",
       "      <td>address</td>\n",
       "      <td>dstToken,</td>\n",
       "      <td>address</td>\n",
       "      <td>...</td>\n",
       "      <td>{'name':</td>\n",
       "      <td>'returnAmount',</td>\n",
       "      <td>'type':</td>\n",
       "      <td>'uint256',</td>\n",
       "      <td>'indexed':</td>\n",
       "      <td>False,</td>\n",
       "      <td>'decoded':</td>\n",
       "      <td>True,</td>\n",
       "      <td>'value':</td>\n",
       "      <td>'10207377601606172528'}]}</td>\n",
       "    </tr>\n",
       "    <tr>\n",
       "      <th>...</th>\n",
       "      <td>...</td>\n",
       "      <td>...</td>\n",
       "      <td>...</td>\n",
       "      <td>...</td>\n",
       "      <td>...</td>\n",
       "      <td>...</td>\n",
       "      <td>...</td>\n",
       "      <td>...</td>\n",
       "      <td>...</td>\n",
       "      <td>...</td>\n",
       "      <td>...</td>\n",
       "      <td>...</td>\n",
       "      <td>...</td>\n",
       "      <td>...</td>\n",
       "      <td>...</td>\n",
       "      <td>...</td>\n",
       "      <td>...</td>\n",
       "      <td>...</td>\n",
       "      <td>...</td>\n",
       "      <td>...</td>\n",
       "      <td>...</td>\n",
       "    </tr>\n",
       "    <tr>\n",
       "      <th>60236</th>\n",
       "      <td>{'name':</td>\n",
       "      <td>'Swapped',</td>\n",
       "      <td>'signature':</td>\n",
       "      <td>'Swapped(address</td>\n",
       "      <td>sender,</td>\n",
       "      <td>address</td>\n",
       "      <td>srcToken,</td>\n",
       "      <td>address</td>\n",
       "      <td>dstToken,</td>\n",
       "      <td>address</td>\n",
       "      <td>...</td>\n",
       "      <td>{'name':</td>\n",
       "      <td>'returnAmount',</td>\n",
       "      <td>'type':</td>\n",
       "      <td>'uint256',</td>\n",
       "      <td>'indexed':</td>\n",
       "      <td>False,</td>\n",
       "      <td>'decoded':</td>\n",
       "      <td>True,</td>\n",
       "      <td>'value':</td>\n",
       "      <td>'530864236'}]}</td>\n",
       "    </tr>\n",
       "    <tr>\n",
       "      <th>60237</th>\n",
       "      <td>{'name':</td>\n",
       "      <td>'Swapped',</td>\n",
       "      <td>'signature':</td>\n",
       "      <td>'Swapped(address</td>\n",
       "      <td>sender,</td>\n",
       "      <td>address</td>\n",
       "      <td>srcToken,</td>\n",
       "      <td>address</td>\n",
       "      <td>dstToken,</td>\n",
       "      <td>address</td>\n",
       "      <td>...</td>\n",
       "      <td>{'name':</td>\n",
       "      <td>'returnAmount',</td>\n",
       "      <td>'type':</td>\n",
       "      <td>'uint256',</td>\n",
       "      <td>'indexed':</td>\n",
       "      <td>False,</td>\n",
       "      <td>'decoded':</td>\n",
       "      <td>True,</td>\n",
       "      <td>'value':</td>\n",
       "      <td>'2000000000000000000'}]}</td>\n",
       "    </tr>\n",
       "    <tr>\n",
       "      <th>60238</th>\n",
       "      <td>{'name':</td>\n",
       "      <td>'Swapped',</td>\n",
       "      <td>'signature':</td>\n",
       "      <td>'Swapped(address</td>\n",
       "      <td>sender,</td>\n",
       "      <td>address</td>\n",
       "      <td>srcToken,</td>\n",
       "      <td>address</td>\n",
       "      <td>dstToken,</td>\n",
       "      <td>address</td>\n",
       "      <td>...</td>\n",
       "      <td>{'name':</td>\n",
       "      <td>'returnAmount',</td>\n",
       "      <td>'type':</td>\n",
       "      <td>'uint256',</td>\n",
       "      <td>'indexed':</td>\n",
       "      <td>False,</td>\n",
       "      <td>'decoded':</td>\n",
       "      <td>True,</td>\n",
       "      <td>'value':</td>\n",
       "      <td>'333222481127898899'}]}</td>\n",
       "    </tr>\n",
       "    <tr>\n",
       "      <th>60239</th>\n",
       "      <td>{'name':</td>\n",
       "      <td>'Swapped',</td>\n",
       "      <td>'signature':</td>\n",
       "      <td>'Swapped(address</td>\n",
       "      <td>sender,</td>\n",
       "      <td>address</td>\n",
       "      <td>srcToken,</td>\n",
       "      <td>address</td>\n",
       "      <td>dstToken,</td>\n",
       "      <td>address</td>\n",
       "      <td>...</td>\n",
       "      <td>{'name':</td>\n",
       "      <td>'returnAmount',</td>\n",
       "      <td>'type':</td>\n",
       "      <td>'uint256',</td>\n",
       "      <td>'indexed':</td>\n",
       "      <td>False,</td>\n",
       "      <td>'decoded':</td>\n",
       "      <td>True,</td>\n",
       "      <td>'value':</td>\n",
       "      <td>'354091861078247450'}]}</td>\n",
       "    </tr>\n",
       "    <tr>\n",
       "      <th>60240</th>\n",
       "      <td>{'name':</td>\n",
       "      <td>'Swapped',</td>\n",
       "      <td>'signature':</td>\n",
       "      <td>'Swapped(address</td>\n",
       "      <td>sender,</td>\n",
       "      <td>address</td>\n",
       "      <td>srcToken,</td>\n",
       "      <td>address</td>\n",
       "      <td>dstToken,</td>\n",
       "      <td>address</td>\n",
       "      <td>...</td>\n",
       "      <td>{'name':</td>\n",
       "      <td>'returnAmount',</td>\n",
       "      <td>'type':</td>\n",
       "      <td>'uint256',</td>\n",
       "      <td>'indexed':</td>\n",
       "      <td>False,</td>\n",
       "      <td>'decoded':</td>\n",
       "      <td>True,</td>\n",
       "      <td>'value':</td>\n",
       "      <td>'59940000000000000000'}]}</td>\n",
       "    </tr>\n",
       "  </tbody>\n",
       "</table>\n",
       "<p>60241 rows × 76 columns</p>\n",
       "</div>"
      ],
      "text/plain": [
       "             0           1             2                 3        4        5   \\\n",
       "0      {'name':  'Swapped',  'signature':  'Swapped(address  sender,  address   \n",
       "1      {'name':  'Swapped',  'signature':  'Swapped(address  sender,  address   \n",
       "2      {'name':  'Swapped',  'signature':  'Swapped(address  sender,  address   \n",
       "3      {'name':  'Swapped',  'signature':  'Swapped(address  sender,  address   \n",
       "4      {'name':  'Swapped',  'signature':  'Swapped(address  sender,  address   \n",
       "...         ...         ...           ...               ...      ...      ...   \n",
       "60236  {'name':  'Swapped',  'signature':  'Swapped(address  sender,  address   \n",
       "60237  {'name':  'Swapped',  'signature':  'Swapped(address  sender,  address   \n",
       "60238  {'name':  'Swapped',  'signature':  'Swapped(address  sender,  address   \n",
       "60239  {'name':  'Swapped',  'signature':  'Swapped(address  sender,  address   \n",
       "60240  {'name':  'Swapped',  'signature':  'Swapped(address  sender,  address   \n",
       "\n",
       "              6        7          8        9   ...        66               67  \\\n",
       "0      srcToken,  address  dstToken,  address  ...  {'name':  'returnAmount',   \n",
       "1      srcToken,  address  dstToken,  address  ...  {'name':  'returnAmount',   \n",
       "2      srcToken,  address  dstToken,  address  ...  {'name':  'returnAmount',   \n",
       "3      srcToken,  address  dstToken,  address  ...  {'name':  'returnAmount',   \n",
       "4      srcToken,  address  dstToken,  address  ...  {'name':  'returnAmount',   \n",
       "...          ...      ...        ...      ...  ...       ...              ...   \n",
       "60236  srcToken,  address  dstToken,  address  ...  {'name':  'returnAmount',   \n",
       "60237  srcToken,  address  dstToken,  address  ...  {'name':  'returnAmount',   \n",
       "60238  srcToken,  address  dstToken,  address  ...  {'name':  'returnAmount',   \n",
       "60239  srcToken,  address  dstToken,  address  ...  {'name':  'returnAmount',   \n",
       "60240  srcToken,  address  dstToken,  address  ...  {'name':  'returnAmount',   \n",
       "\n",
       "            68          69          70      71          72     73        74  \\\n",
       "0      'type':  'uint256',  'indexed':  False,  'decoded':  True,  'value':   \n",
       "1      'type':  'uint256',  'indexed':  False,  'decoded':  True,  'value':   \n",
       "2      'type':  'uint256',  'indexed':  False,  'decoded':  True,  'value':   \n",
       "3      'type':  'uint256',  'indexed':  False,  'decoded':  True,  'value':   \n",
       "4      'type':  'uint256',  'indexed':  False,  'decoded':  True,  'value':   \n",
       "...        ...         ...         ...     ...         ...    ...       ...   \n",
       "60236  'type':  'uint256',  'indexed':  False,  'decoded':  True,  'value':   \n",
       "60237  'type':  'uint256',  'indexed':  False,  'decoded':  True,  'value':   \n",
       "60238  'type':  'uint256',  'indexed':  False,  'decoded':  True,  'value':   \n",
       "60239  'type':  'uint256',  'indexed':  False,  'decoded':  True,  'value':   \n",
       "60240  'type':  'uint256',  'indexed':  False,  'decoded':  True,  'value':   \n",
       "\n",
       "                                75  \n",
       "0                 '13288105160'}]}  \n",
       "1                '111781156120'}]}  \n",
       "2      '2312421205985258073697'}]}  \n",
       "3       '788959355126744592376'}]}  \n",
       "4        '10207377601606172528'}]}  \n",
       "...                            ...  \n",
       "60236               '530864236'}]}  \n",
       "60237     '2000000000000000000'}]}  \n",
       "60238      '333222481127898899'}]}  \n",
       "60239      '354091861078247450'}]}  \n",
       "60240    '59940000000000000000'}]}  \n",
       "\n",
       "[60241 rows x 76 columns]"
      ]
     },
     "execution_count": 16,
     "metadata": {},
     "output_type": "execute_result"
    }
   ],
   "source": [
    "data_df"
   ]
  },
  {
   "cell_type": "code",
   "execution_count": 17,
   "metadata": {},
   "outputs": [
    {
     "data": {
      "text/plain": [
       "0        '0x06b23dc3fb948fd800dcad8a800b60fd0e5401bc'},\n",
       "1        '0x0a6417b2d8b6cb55b1751b5a46289972d33e424c'},\n",
       "2        '0x573af77214df6bccaed3b0859a60170f2071641e'},\n",
       "3        '0xa70be50bb7ae251c8fa828a7825042cfd96f3c50'},\n",
       "4        '0xaa1e9cc5467e51cc9c7dbea71be25c630e037e40'},\n",
       "                              ...                      \n",
       "60236    '0x09ce2805edf29d6bea03caeea72e808af8952a10'},\n",
       "60237    '0x74de5d4fcbf63e00296fd95d33236b9794016631'},\n",
       "60238    '0x74de5d4fcbf63e00296fd95d33236b9794016631'},\n",
       "60239    '0x93c2181aafc7b41cf9be0279da868c871471c4e4'},\n",
       "60240    '0xedacce1f4e7d1d000dfcefdedfb139f10a27a6fb'},\n",
       "Name: 25, Length: 60241, dtype: object"
      ]
     },
     "execution_count": 17,
     "metadata": {},
     "output_type": "execute_result"
    }
   ],
   "source": [
    "data_df[25]"
   ]
  },
  {
   "cell_type": "code",
   "execution_count": 18,
   "metadata": {},
   "outputs": [
    {
     "data": {
      "text/plain": [
       "0        '0x2b915b505c017abb1547aa5ab355fbe69865cc6d'},\n",
       "1        '0xdbdb4d16eda451d0503b854cf79d55697f90c8df'},\n",
       "2        '0x8642a849d0dcb7a15a974794668adcfbe4794b56'},\n",
       "3        '0xf938424f7210f31df2aee3011291b658f872e91e'},\n",
       "4        '0xeeeeeeeeeeeeeeeeeeeeeeeeeeeeeeeeeeeeeeee'},\n",
       "                              ...                      \n",
       "60236    '0x111111111117dc0aa78b770fa6a738034120c302'},\n",
       "60237    '0xeeeeeeeeeeeeeeeeeeeeeeeeeeeeeeeeeeeeeeee'},\n",
       "60238    '0x957c30ab0426e0c93cd8241e2c60392d08c6ac8e'},\n",
       "60239    '0x1b40183efb4dd766f11bda7a7c3ad8982e998421'},\n",
       "60240    '0xc02aaa39b223fe8d0a0e5c4f27ead9083c756cc2'},\n",
       "Name: 35, Length: 60241, dtype: object"
      ]
     },
     "execution_count": 18,
     "metadata": {},
     "output_type": "execute_result"
    }
   ],
   "source": [
    "data_df[35]"
   ]
  },
  {
   "cell_type": "code",
   "execution_count": 19,
   "metadata": {},
   "outputs": [
    {
     "data": {
      "text/plain": [
       "0        '0xa0b86991c6218b36c1d19d4a2e9eb0ce3606eb48'},\n",
       "1        '0xa0b86991c6218b36c1d19d4a2e9eb0ce3606eb48'},\n",
       "2        '0xee573a945b01b788b9287ce062a0cfc15be9fd86'},\n",
       "3        '0x1b40183efb4dd766f11bda7a7c3ad8982e998421'},\n",
       "4        '0xfca59cd816ab1ead66534d82bc21e7515ce441cf'},\n",
       "                              ...                      \n",
       "60236    '0xdac17f958d2ee523a2206206994597c13d831ec7'},\n",
       "60237    '0xc02aaa39b223fe8d0a0e5c4f27ead9083c756cc2'},\n",
       "60238    '0xeeeeeeeeeeeeeeeeeeeeeeeeeeeeeeeeeeeeeeee'},\n",
       "60239    '0xeeeeeeeeeeeeeeeeeeeeeeeeeeeeeeeeeeeeeeee'},\n",
       "60240    '0xeeeeeeeeeeeeeeeeeeeeeeeeeeeeeeeeeeeeeeee'},\n",
       "Name: 45, Length: 60241, dtype: object"
      ]
     },
     "execution_count": 19,
     "metadata": {},
     "output_type": "execute_result"
    }
   ],
   "source": [
    "data_df[45]"
   ]
  },
  {
   "cell_type": "code",
   "execution_count": 20,
   "metadata": {},
   "outputs": [
    {
     "data": {
      "text/plain": [
       "0        '0x06b23dc3fb948fd800dcad8a800b60fd0e5401bc'},\n",
       "1        '0x0a6417b2d8b6cb55b1751b5a46289972d33e424c'},\n",
       "2        '0x573af77214df6bccaed3b0859a60170f2071641e'},\n",
       "3        '0xa70be50bb7ae251c8fa828a7825042cfd96f3c50'},\n",
       "4        '0xaa1e9cc5467e51cc9c7dbea71be25c630e037e40'},\n",
       "                              ...                      \n",
       "60236    '0x09ce2805edf29d6bea03caeea72e808af8952a10'},\n",
       "60237    '0x74de5d4fcbf63e00296fd95d33236b9794016631'},\n",
       "60238    '0x74de5d4fcbf63e00296fd95d33236b9794016631'},\n",
       "60239    '0x93c2181aafc7b41cf9be0279da868c871471c4e4'},\n",
       "60240    '0xedacce1f4e7d1d000dfcefdedfb139f10a27a6fb'},\n",
       "Name: 55, Length: 60241, dtype: object"
      ]
     },
     "execution_count": 20,
     "metadata": {},
     "output_type": "execute_result"
    }
   ],
   "source": [
    "data_df[55]"
   ]
  },
  {
   "cell_type": "code",
   "execution_count": 21,
   "metadata": {},
   "outputs": [
    {
     "data": {
      "text/plain": [
       "0                    '10000000000'},\n",
       "1           '63758200000000000000'},\n",
       "2          '742929888756423917864'},\n",
       "3        '98214142963622351548225'},\n",
       "4             '220000000000000000'},\n",
       "                    ...             \n",
       "60236       '94031500000000000000'},\n",
       "60237        '2000000000000000000'},\n",
       "60238                        '892'},\n",
       "60239       '28320351036696490953'},\n",
       "60240       '59940000000000000000'},\n",
       "Name: 65, Length: 60241, dtype: object"
      ]
     },
     "execution_count": 21,
     "metadata": {},
     "output_type": "execute_result"
    }
   ],
   "source": [
    "data_df[65]"
   ]
  },
  {
   "cell_type": "code",
   "execution_count": 22,
   "metadata": {},
   "outputs": [
    {
     "data": {
      "text/plain": [
       "0                   '13288105160'}]}\n",
       "1                  '111781156120'}]}\n",
       "2        '2312421205985258073697'}]}\n",
       "3         '788959355126744592376'}]}\n",
       "4          '10207377601606172528'}]}\n",
       "                    ...             \n",
       "60236                 '530864236'}]}\n",
       "60237       '2000000000000000000'}]}\n",
       "60238        '333222481127898899'}]}\n",
       "60239        '354091861078247450'}]}\n",
       "60240      '59940000000000000000'}]}\n",
       "Name: 75, Length: 60241, dtype: object"
      ]
     },
     "execution_count": 22,
     "metadata": {},
     "output_type": "execute_result"
    }
   ],
   "source": [
    "data_df[75]"
   ]
  },
  {
   "cell_type": "code",
   "execution_count": null,
   "metadata": {},
   "outputs": [],
   "source": []
  },
  {
   "cell_type": "code",
   "execution_count": null,
   "metadata": {},
   "outputs": [],
   "source": []
  },
  {
   "cell_type": "code",
   "execution_count": null,
   "metadata": {},
   "outputs": [],
   "source": []
  },
  {
   "cell_type": "code",
   "execution_count": null,
   "metadata": {},
   "outputs": [],
   "source": []
  },
  {
   "cell_type": "code",
   "execution_count": null,
   "metadata": {},
   "outputs": [],
   "source": []
  },
  {
   "cell_type": "code",
   "execution_count": 23,
   "metadata": {},
   "outputs": [],
   "source": [
    "data_df=data_df[[25,35,45,55,65,75]]"
   ]
  },
  {
   "cell_type": "code",
   "execution_count": 24,
   "metadata": {},
   "outputs": [
    {
     "name": "stderr",
     "output_type": "stream",
     "text": [
      "<ipython-input-24-aafb5b09c6b4>:1: SettingWithCopyWarning: \n",
      "A value is trying to be set on a copy of a slice from a DataFrame.\n",
      "Try using .loc[row_indexer,col_indexer] = value instead\n",
      "\n",
      "See the caveats in the documentation: https://pandas.pydata.org/pandas-docs/stable/user_guide/indexing.html#returning-a-view-versus-a-copy\n",
      "  data_df[\"tx_hash\"]=m\n"
     ]
    }
   ],
   "source": [
    "data_df[\"time\"]=m"
   ]
  },
  {
   "cell_type": "code",
   "execution_count": null,
   "metadata": {},
   "outputs": [],
   "source": []
  },
  {
   "cell_type": "code",
   "execution_count": null,
   "metadata": {},
   "outputs": [],
   "source": []
  },
  {
   "cell_type": "code",
   "execution_count": null,
   "metadata": {},
   "outputs": [],
   "source": []
  },
  {
   "cell_type": "code",
   "execution_count": null,
   "metadata": {},
   "outputs": [],
   "source": []
  },
  {
   "cell_type": "code",
   "execution_count": null,
   "metadata": {},
   "outputs": [],
   "source": []
  },
  {
   "cell_type": "code",
   "execution_count": null,
   "metadata": {},
   "outputs": [],
   "source": []
  },
  {
   "cell_type": "code",
   "execution_count": 25,
   "metadata": {},
   "outputs": [],
   "source": [
    "\n",
    "    \n",
    "   \n",
    "\n",
    "    "
   ]
  },
  {
   "cell_type": "code",
   "execution_count": null,
   "metadata": {},
   "outputs": [],
   "source": []
  },
  {
   "cell_type": "code",
   "execution_count": null,
   "metadata": {},
   "outputs": [],
   "source": []
  },
  {
   "cell_type": "code",
   "execution_count": 27,
   "metadata": {},
   "outputs": [],
   "source": []
  },
  {
   "cell_type": "code",
   "execution_count": null,
   "metadata": {},
   "outputs": [],
   "source": [
    "\n",
    "    "
   ]
  },
  {
   "cell_type": "code",
   "execution_count": null,
   "metadata": {},
   "outputs": [],
   "source": []
  },
  {
   "cell_type": "markdown",
   "metadata": {},
   "source": [
    "### Preprocessing"
   ]
  },
  {
   "cell_type": "code",
   "execution_count": null,
   "metadata": {},
   "outputs": [],
   "source": [
    "for i in range(len(data_df)):\n",
    "    print(i)\n",
    "    data_df[25].iloc[i]=data_df[25].iloc[i][1:-3]\n",
    "    data_df[35].iloc[i]=data_df[35].iloc[i][1:-3]\n",
    "    data_df[45].iloc[i]=data_df[45].iloc[i][1:-3]\n",
    "    data_df[55].iloc[i]=data_df[55].iloc[i][1:-3]\n",
    "    data_df[65].iloc[i]=float(data_df[65].iloc[i][1:-3])\n",
    "    data_df[75].iloc[i]=float(data_df[75].iloc[i][1:-4])"
   ]
  },
  {
   "cell_type": "code",
   "execution_count": null,
   "metadata": {},
   "outputs": [],
   "source": []
  },
  {
   "cell_type": "code",
   "execution_count": null,
   "metadata": {},
   "outputs": [],
   "source": []
  },
  {
   "cell_type": "code",
   "execution_count": null,
   "metadata": {},
   "outputs": [],
   "source": [
    "data_df"
   ]
  },
  {
   "cell_type": "code",
   "execution_count": null,
   "metadata": {},
   "outputs": [],
   "source": [
    "for i in range(len(data_df)):\n",
    "    print(i)\n",
    "    data_df[\"date\"].iloc[i]=data_df[\"date\"].iloc[i][0:10]"
   ]
  },
  {
   "cell_type": "code",
   "execution_count": null,
   "metadata": {},
   "outputs": [],
   "source": []
  },
  {
   "cell_type": "code",
   "execution_count": null,
   "metadata": {},
   "outputs": [],
   "source": []
  },
  {
   "cell_type": "code",
   "execution_count": null,
   "metadata": {},
   "outputs": [],
   "source": []
  },
  {
   "cell_type": "code",
   "execution_count": null,
   "metadata": {},
   "outputs": [],
   "source": []
  },
  {
   "cell_type": "code",
   "execution_count": null,
   "metadata": {},
   "outputs": [],
   "source": []
  },
  {
   "cell_type": "code",
   "execution_count": null,
   "metadata": {},
   "outputs": [],
   "source": []
  },
  {
   "cell_type": "code",
   "execution_count": null,
   "metadata": {},
   "outputs": [],
   "source": []
  },
  {
   "cell_type": "markdown",
   "metadata": {},
   "source": [
    "### Function to get decimals and historical price using the API; For a given token address and Date"
   ]
  },
  {
   "cell_type": "code",
   "execution_count": null,
   "metadata": {},
   "outputs": [],
   "source": [
    "def get_price(addr,date):\n",
    "    base_url = 'https://api.covalenthq.com/v1/pricing/historical_by_addresses_v2/1/usd/{}/?from={}&to={}'\n",
    "    url = base_url.format(addr,date,date)\n",
    "    js=requests.get(url)\n",
    "    p=js.json()\n",
    "    return p[\"data\"][0][\"prices\"][0][\"price\"]"
   ]
  },
  {
   "cell_type": "markdown",
   "metadata": {},
   "source": [
    "### Function to Calculate the USD value"
   ]
  },
  {
   "cell_type": "code",
   "execution_count": null,
   "metadata": {},
   "outputs": [],
   "source": [
    "def calc(decimals,price,usd_val):\n",
    "    return (price/(10**(decimals)))*usd_val"
   ]
  },
  {
   "cell_type": "code",
   "execution_count": null,
   "metadata": {},
   "outputs": [],
   "source": [
    "res=[]"
   ]
  },
  {
   "cell_type": "markdown",
   "metadata": {},
   "source": [
    "### Loop through all swaps and call the above two functions"
   ]
  },
  {
   "cell_type": "code",
   "execution_count": null,
   "metadata": {},
   "outputs": [],
   "source": [
    "\n",
    "for i in range(0,len(data_df)):\n",
    "    print(i)\n",
    "    addr=data_df[35].iloc[i]\n",
    "    price=data_df[65].iloc[i]\n",
    "    date=data_df[\"date\"].iloc[i]\n",
    "    usd_val=get_price(addr,date)\n",
    "    decimal=mapping[mapping['Token Contract Address']== addr]['Decimals'].values[0]\n",
    "    res.append(calc(decimal,price,usd_val))\n",
    "    "
   ]
  },
  {
   "cell_type": "code",
   "execution_count": null,
   "metadata": {},
   "outputs": [],
   "source": [
    "len(res)"
   ]
  },
  {
   "cell_type": "markdown",
   "metadata": {},
   "source": [
    "### Append the array back to the initial dataframe"
   ]
  },
  {
   "cell_type": "code",
   "execution_count": null,
   "metadata": {},
   "outputs": [],
   "source": [
    "data_df[\"usd\"]=res"
   ]
  },
  {
   "cell_type": "code",
   "execution_count": null,
   "metadata": {},
   "outputs": [],
   "source": [
    "data_df.to_csv(\"final_analy.csv\")"
   ]
  },
  {
   "cell_type": "code",
   "execution_count": null,
   "metadata": {},
   "outputs": [],
   "source": []
  },
  {
   "cell_type": "code",
   "execution_count": null,
   "metadata": {},
   "outputs": [],
   "source": []
  },
  {
   "cell_type": "code",
   "execution_count": null,
   "metadata": {},
   "outputs": [],
   "source": []
  },
  {
   "cell_type": "code",
   "execution_count": null,
   "metadata": {},
   "outputs": [],
   "source": []
  },
  {
   "cell_type": "code",
   "execution_count": null,
   "metadata": {},
   "outputs": [],
   "source": []
  },
  {
   "cell_type": "code",
   "execution_count": null,
   "metadata": {},
   "outputs": [],
   "source": []
  },
  {
   "cell_type": "code",
   "execution_count": null,
   "metadata": {},
   "outputs": [],
   "source": []
  },
  {
   "cell_type": "code",
   "execution_count": null,
   "metadata": {},
   "outputs": [],
   "source": []
  },
  {
   "cell_type": "code",
   "execution_count": null,
   "metadata": {},
   "outputs": [],
   "source": []
  },
  {
   "cell_type": "code",
   "execution_count": null,
   "metadata": {},
   "outputs": [],
   "source": [
    "\n",
    "    \n",
    "    \n",
    "    "
   ]
  },
  {
   "cell_type": "code",
   "execution_count": null,
   "metadata": {},
   "outputs": [],
   "source": []
  },
  {
   "cell_type": "code",
   "execution_count": null,
   "metadata": {},
   "outputs": [],
   "source": [
    "\n",
    "    "
   ]
  },
  {
   "cell_type": "code",
   "execution_count": null,
   "metadata": {},
   "outputs": [],
   "source": []
  },
  {
   "cell_type": "code",
   "execution_count": null,
   "metadata": {},
   "outputs": [],
   "source": []
  },
  {
   "cell_type": "code",
   "execution_count": null,
   "metadata": {},
   "outputs": [],
   "source": [
    "\n",
    "    "
   ]
  },
  {
   "cell_type": "code",
   "execution_count": null,
   "metadata": {},
   "outputs": [],
   "source": []
  },
  {
   "cell_type": "code",
   "execution_count": null,
   "metadata": {},
   "outputs": [],
   "source": []
  },
  {
   "cell_type": "code",
   "execution_count": null,
   "metadata": {},
   "outputs": [],
   "source": []
  },
  {
   "cell_type": "code",
   "execution_count": null,
   "metadata": {},
   "outputs": [],
   "source": []
  },
  {
   "cell_type": "code",
   "execution_count": null,
   "metadata": {},
   "outputs": [],
   "source": []
  },
  {
   "cell_type": "code",
   "execution_count": null,
   "metadata": {},
   "outputs": [],
   "source": []
  },
  {
   "cell_type": "code",
   "execution_count": null,
   "metadata": {},
   "outputs": [],
   "source": []
  },
  {
   "cell_type": "code",
   "execution_count": null,
   "metadata": {},
   "outputs": [],
   "source": []
  },
  {
   "cell_type": "code",
   "execution_count": null,
   "metadata": {},
   "outputs": [],
   "source": []
  },
  {
   "cell_type": "code",
   "execution_count": null,
   "metadata": {},
   "outputs": [],
   "source": []
  },
  {
   "cell_type": "code",
   "execution_count": null,
   "metadata": {},
   "outputs": [],
   "source": []
  },
  {
   "cell_type": "code",
   "execution_count": null,
   "metadata": {},
   "outputs": [],
   "source": []
  },
  {
   "cell_type": "code",
   "execution_count": null,
   "metadata": {},
   "outputs": [],
   "source": []
  },
  {
   "cell_type": "code",
   "execution_count": null,
   "metadata": {},
   "outputs": [],
   "source": []
  },
  {
   "cell_type": "code",
   "execution_count": null,
   "metadata": {},
   "outputs": [],
   "source": []
  },
  {
   "cell_type": "code",
   "execution_count": null,
   "metadata": {},
   "outputs": [],
   "source": []
  },
  {
   "cell_type": "code",
   "execution_count": null,
   "metadata": {},
   "outputs": [],
   "source": []
  },
  {
   "cell_type": "code",
   "execution_count": null,
   "metadata": {},
   "outputs": [],
   "source": []
  },
  {
   "cell_type": "code",
   "execution_count": null,
   "metadata": {},
   "outputs": [],
   "source": []
  },
  {
   "cell_type": "code",
   "execution_count": null,
   "metadata": {},
   "outputs": [],
   "source": []
  },
  {
   "cell_type": "code",
   "execution_count": null,
   "metadata": {},
   "outputs": [],
   "source": []
  },
  {
   "cell_type": "code",
   "execution_count": null,
   "metadata": {},
   "outputs": [],
   "source": []
  },
  {
   "cell_type": "code",
   "execution_count": null,
   "metadata": {},
   "outputs": [],
   "source": []
  },
  {
   "cell_type": "code",
   "execution_count": null,
   "metadata": {},
   "outputs": [],
   "source": []
  },
  {
   "cell_type": "code",
   "execution_count": null,
   "metadata": {},
   "outputs": [],
   "source": []
  }
 ],
 "metadata": {
  "kernelspec": {
   "display_name": "Python 3",
   "language": "python",
   "name": "python3"
  },
  "language_info": {
   "codemirror_mode": {
    "name": "ipython",
    "version": 3
   },
   "file_extension": ".py",
   "mimetype": "text/x-python",
   "name": "python",
   "nbconvert_exporter": "python",
   "pygments_lexer": "ipython3",
   "version": "3.8.5"
  }
 },
 "nbformat": 4,
 "nbformat_minor": 4
}
